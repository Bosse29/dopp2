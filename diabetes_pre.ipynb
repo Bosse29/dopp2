{
 "cells": [
  {
   "cell_type": "code",
   "execution_count": 1,
   "id": "4539d42a-7946-4435-a9ec-955a753386d9",
   "metadata": {},
   "outputs": [],
   "source": [
    "import pandas as pd\n",
    "import os"
   ]
  },
  {
   "cell_type": "code",
   "execution_count": null,
   "id": "8917ec24-86d1-4564-98ce-4c78115680cf",
   "metadata": {},
   "outputs": [],
   "source": [
    "file_path = \"raw/Diabetes/diabetes_raw.csv\"  # Replace with your file's location\n",
    "df_diabetes = pd.read_csv(file_path)\n",
    "\n",
    "# Keep only the columns for 'Country/Territory', '2011', and '2021'\n",
    "df_cleaned = df_diabetes[['Country/Territory', '2011', '2021']]\n",
    "\n",
    "# Save the cleaned data to a new CSV file\n",
    "output_file = \"data/diabetes_cleaned.csv\"  # Replace with your desired output location\n",
    "df_cleaned.to_csv(output_file, index=False)"
   ]
  },
  {
   "cell_type": "code",
   "execution_count": null,
   "id": "751cb78f-bb3b-42c9-b3df-386faed9d456",
   "metadata": {},
   "outputs": [],
   "source": []
  },
  {
   "cell_type": "code",
   "execution_count": null,
   "id": "70e8f7ea-fa42-4cd2-a706-7b627dd0e67f",
   "metadata": {},
   "outputs": [],
   "source": []
  }
 ],
 "metadata": {
  "kernelspec": {
   "display_name": "Python 3 (ipykernel)",
   "language": "python",
   "name": "python3"
  },
  "language_info": {
   "codemirror_mode": {
    "name": "ipython",
    "version": 3
   },
   "file_extension": ".py",
   "mimetype": "text/x-python",
   "name": "python",
   "nbconvert_exporter": "python",
   "pygments_lexer": "ipython3",
   "version": "3.10.6"
  }
 },
 "nbformat": 4,
 "nbformat_minor": 5
}
